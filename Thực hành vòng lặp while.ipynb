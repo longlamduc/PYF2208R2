{
 "cells": [
  {
   "cell_type": "code",
   "execution_count": null,
   "id": "272a3a95",
   "metadata": {},
   "outputs": [],
   "source": [
    "'''\n",
    "Khởi động: Viết chương trình in ra tất cả các số chia hết cho cả 5 và 7 trong khoảng từ 1500 đến 2700\n",
    "'''"
   ]
  },
  {
   "cell_type": "code",
   "execution_count": 2,
   "id": "18dbe371",
   "metadata": {},
   "outputs": [
    {
     "name": "stdout",
     "output_type": "stream",
     "text": [
      "1505\n",
      "1540\n",
      "1575\n",
      "1610\n",
      "1645\n",
      "1680\n",
      "1715\n",
      "1750\n",
      "1785\n",
      "1820\n",
      "1855\n",
      "1890\n",
      "1925\n",
      "1960\n",
      "1995\n",
      "2030\n",
      "2065\n",
      "2100\n",
      "2135\n",
      "2170\n",
      "2205\n",
      "2240\n",
      "2275\n",
      "2310\n",
      "2345\n",
      "2380\n",
      "2415\n",
      "2450\n",
      "2485\n",
      "2520\n",
      "2555\n",
      "2590\n",
      "2625\n",
      "2660\n",
      "2695\n"
     ]
    }
   ],
   "source": [
    "count = 1500\n",
    "while count <= 2700:\n",
    "    if not count % 35:\n",
    "        print(count)\n",
    "    count += 1"
   ]
  },
  {
   "cell_type": "code",
   "execution_count": 3,
   "id": "87f74c6c",
   "metadata": {},
   "outputs": [
    {
     "name": "stdout",
     "output_type": "stream",
     "text": [
      "Input height of triangle: 5\n",
      "*****\n",
      "****\n",
      "***\n",
      "**\n",
      "*\n"
     ]
    }
   ],
   "source": [
    "'''\n",
    "Bài 1: Viết chương trình nhập vào chiều cao tam giác vuông và in ra tam giác có hình dạng như sau:\n",
    "*****\n",
    "****\n",
    "***\n",
    "** \n",
    "*\n",
    "'''\n",
    "h = int(input(\"Input height of triangle: \"))\n",
    "while h >= 1:\n",
    "    print('*' * h)\n",
    "    h -= 1"
   ]
  },
  {
   "cell_type": "code",
   "execution_count": 4,
   "id": "ea4c14a8",
   "metadata": {},
   "outputs": [
    {
     "name": "stdout",
     "output_type": "stream",
     "text": [
      "Input height of triangle: 6\n",
      "* * * * * *\n",
      "* * * * *\n",
      "* * * *\n",
      "* * *\n",
      "* *\n",
      "*\n"
     ]
    }
   ],
   "source": [
    "'''\n",
    "Bài 2: Viết chương trình nhập vào chiều cao tam giác vuông và in ra tam giác có hình dạng như sau:\n",
    "* * * * * *\n",
    "* * * * *\n",
    "* * * *\n",
    "* * *\n",
    "* *\n",
    "*\n",
    "'''\n",
    "h = int(input(\"Input height of triangle: \"))\n",
    "while h >= 1:\n",
    "    print('* ' * (h - 1) + '*')\n",
    "    h -= 1"
   ]
  },
  {
   "cell_type": "code",
   "execution_count": 3,
   "id": "bd17e085",
   "metadata": {},
   "outputs": [
    {
     "name": "stdout",
     "output_type": "stream",
     "text": [
      "Input height of triangle: 5\n",
      "* - * - *\n",
      "* - * -\n",
      "* - *\n",
      "* -\n",
      "*\n"
     ]
    }
   ],
   "source": [
    "'''\n",
    "Bài 3: Viết chương trình nhập vào chiều cao tam giác vuông và in ra tam giác có hình dạng như sau:\n",
    "* - * - *\n",
    "* - * -\n",
    "* - *\n",
    "* -\n",
    "*\n",
    "'''\n",
    "h = int(input(\"Input height of triangle: \"))\n",
    "while h >= 1:\n",
    "    if h % 2:\n",
    "        print(\"* - \" * (h // 2) + \"*\")\n",
    "    else:\n",
    "        print((\"* - \" * (h // 2)).rstrip())\n",
    "    h -= 1"
   ]
  },
  {
   "cell_type": "code",
   "execution_count": 4,
   "id": "105b66bc",
   "metadata": {
    "scrolled": false
   },
   "outputs": [
    {
     "name": "stdout",
     "output_type": "stream",
     "text": [
      "Input number: 25\n",
      "1\n",
      "2\n",
      "py\n",
      "4\n",
      "5\n",
      "py\n",
      "thon\n",
      "8\n",
      "py\n",
      "10\n",
      "11\n",
      "py\n",
      "13\n",
      "thon\n",
      "py\n",
      "16\n",
      "17\n",
      "py\n",
      "19\n",
      "20\n",
      "python\n",
      "22\n",
      "23\n",
      "py\n",
      "25\n"
     ]
    }
   ],
   "source": [
    "'''\n",
    "Bài 4: Viết chương trình nhập vào một số nguyên n và in ra các số từ 1 đến n với các trường hợp ngoại lệ như sau:\n",
    "- Nếu số đó chia hết cho 3 thì in \"py\"\n",
    "- Nếu số đó chia hết cho 7 thì in \"thon\"\n",
    "- Nếu số đó chia hết cho cả 3 và 7 thì in \"python\"\n",
    "\n",
    "Ví dụ: n = 25\n",
    "1\n",
    "2\n",
    "py\n",
    "4\n",
    "5\n",
    "py\n",
    "thon\n",
    "8\n",
    "py\n",
    "10\n",
    "11\n",
    "py\n",
    "13\n",
    "thon\n",
    "py\n",
    "16\n",
    "17\n",
    "py\n",
    "19\n",
    "20\n",
    "python\n",
    "22\n",
    "23\n",
    "py\n",
    "25\n",
    "'''\n",
    "n = int(input(\"Input number: \"))\n",
    "count = 1\n",
    "while count <= n:\n",
    "    if count % 3 == 0 and count % 7 == 0:\n",
    "        print(\"python\")\n",
    "    elif count % 3 == 0:\n",
    "        print(\"py\")\n",
    "    elif count % 7 == 0:\n",
    "        print(\"thon\")\n",
    "    else:\n",
    "        print(count)\n",
    "    count += 1"
   ]
  },
  {
   "cell_type": "code",
   "execution_count": 7,
   "id": "3689744c",
   "metadata": {},
   "outputs": [
    {
     "name": "stdout",
     "output_type": "stream",
     "text": [
      "Input number: 4\n",
      "4 is not a prime number\n"
     ]
    }
   ],
   "source": [
    "'''\n",
    "Bài 5: Viết chương trình nhập vào một số và kiểm tra xem số đó có phải là số nguyên tố hay không\n",
    "Note: Số nguyên tố là số chỉ chia hết cho 1 và chính nó\n",
    "'''\n",
    "n = int(input(\"Input number: \"))\n",
    "i = 2\n",
    "check = True\n",
    "\n",
    "while i < n:\n",
    "    if n % i == 0:\n",
    "        print(f'{n} is not a prime number')\n",
    "        check = False\n",
    "        break\n",
    "    i += 1\n",
    "\n",
    "if check:\n",
    "    print(f'{n} is a prime number')"
   ]
  },
  {
   "cell_type": "code",
   "execution_count": 1,
   "id": "d76fa311",
   "metadata": {},
   "outputs": [
    {
     "name": "stdout",
     "output_type": "stream",
     "text": [
      "Mời lựa chọn(1 - búa, 2 - kéo, 3 - bao): 1\n",
      "Máy tính chọn: 3\n",
      "Người chơi thua.\n",
      "\n",
      "Mời lựa chọn(1 - búa, 2 - kéo, 3 - bao): 2\n",
      "Máy tính chọn: 2\n",
      "Người chơi thua.\n",
      "\n",
      "Mời lựa chọn(1 - búa, 2 - kéo, 3 - bao): 3\n",
      "Máy tính chọn: 1\n",
      "Người chơi thắng.\n"
     ]
    }
   ],
   "source": [
    "'''\n",
    "Bài 6: Viết chương trình mô phỏng trò chơi kéo búa bao theo luật chơi như sau:\n",
    "Quy ước: 1 - búa, 2 - kéo, 3 - bao\n",
    "Khi trò chơi bắt đầu, yêu cầu người chơi nhập 1 số từ bàn phím đại diện cho kéo, búa, bao\n",
    "Chương trình tự random ra một lựa chọn từ 1 đến 3.\n",
    "Nếu người chơi thua thì tiếp tục chơi cho đến khi thắng thì kết thúc chương trình.\n",
    "Ví dụ:\n",
    "\n",
    "Mời lựa chọn(1 - búa, 2 - kéo, 3 - bao): 1\n",
    "Máy tính chọn: 3\n",
    "Người chơi thua.\n",
    "\n",
    "Mời lựa chọn(1 - búa, 2 - kéo, 3 - bao): 2\n",
    "Máy tính chọn: 1\n",
    "Người chơi thua.\n",
    "\n",
    "Mời lựa chọn(1 - búa, 2 - kéo, 3 - bao): 1\n",
    "Máy tính chọn: 2\n",
    "Người chơi thắng.\n",
    "'''\n",
    "from random import randint\n",
    "result = False\n",
    "while not result:\n",
    "    user_choice = int(input(\"Mời lựa chọn(1 - búa, 2 - kéo, 3 - bao): \"))\n",
    "    computer_choice = randint(1, 3)\n",
    "    print(f\"Máy tính chọn: {computer_choice}\")\n",
    "    if user_choice != 3 and user_choice + 1 == computer_choice:\n",
    "        print(\"Người chơi thắng.\")\n",
    "        result = True\n",
    "    elif user_choice == 3 and computer_choice == 1:\n",
    "        print(\"Người chơi thắng.\")\n",
    "        result = True\n",
    "    else:\n",
    "        print(\"Người chơi thua.\")\n",
    "        print()\n",
    "    \n",
    "    "
   ]
  }
 ],
 "metadata": {
  "kernelspec": {
   "display_name": "Python 3 (ipykernel)",
   "language": "python",
   "name": "python3"
  },
  "language_info": {
   "codemirror_mode": {
    "name": "ipython",
    "version": 3
   },
   "file_extension": ".py",
   "mimetype": "text/x-python",
   "name": "python",
   "nbconvert_exporter": "python",
   "pygments_lexer": "ipython3",
   "version": "3.9.6"
  }
 },
 "nbformat": 4,
 "nbformat_minor": 5
}
